{
 "cells": [
  {
   "cell_type": "code",
   "execution_count": 55,
   "id": "0078ad53",
   "metadata": {},
   "outputs": [],
   "source": [
    "from langdetect import detect\n",
    "import translators as ts\n",
    "\n",
    "#simple function to detect and translate text \n",
    "def detect_and_translate(text,target_lang,det):\n",
    "    \n",
    "    result_lang = detect(text)\n",
    "    \n",
    "    if result_lang == target_lang:\n",
    "        return text\n",
    "    \n",
    "    elif result_lang!= target_lang and det==\"Yes\":\n",
    "       \n",
    "        translate_text = ts.google(text,to_language=target_lang)\n",
    "        return translate_text, result_lang\n",
    "    else :\n",
    "        translate_text = ts.google(text,to_language=target_lang)\n",
    "        return translate_text\n",
    "    \n",
    "def detect_and_translate1(text,target_lang,det):\n",
    "    \n",
    "    result_lang = detect(text)\n",
    "    \n",
    "    if result_lang == target_lang:\n",
    "        return text \n",
    "    \n",
    "    elif result_lang!= target_lang and det==\"Yes\":\n",
    "       \n",
    "        translate_text = ts.google(text,to_language=target_lang)\n",
    "        return translate_text, result_lang\n",
    "    else :\n",
    "        translate_text = ts.google(text,to_language=target_lang)\n",
    "        return translate_text, result_lang\n",
    "\n"
   ]
  },
  {
   "cell_type": "code",
   "execution_count": 62,
   "id": "fdb8fd32",
   "metadata": {
    "scrolled": true
   },
   "outputs": [
    {
     "name": "stdout",
     "output_type": "stream",
     "text": [
      "ohayo gozaimasu\n",
      "en\n",
      "good morning\n"
     ]
    }
   ],
   "source": [
    "sentence=input()\n",
    "target=input()\n",
    "print(detect_and_translate(sentence,target,'no'))\n"
   ]
  },
  {
   "cell_type": "code",
   "execution_count": null,
   "id": "92e04e72",
   "metadata": {},
   "outputs": [],
   "source": [
    "\n",
    "print(detect_and_translate1('வணக்கம்','en','no'))"
   ]
  },
  {
   "cell_type": "code",
   "execution_count": null,
   "id": "db931466",
   "metadata": {
    "scrolled": true
   },
   "outputs": [],
   "source": [
    "sentence=\"aapka naam kya hai?\"\n",
    "print(detect_and_translate1(detect_and_translate(sentence,'hi','no'),'en','no'))\n"
   ]
  },
  {
   "cell_type": "code",
   "execution_count": null,
   "id": "6eaf41f8",
   "metadata": {},
   "outputs": [],
   "source": [
    "sentence=\"ramudu manchi baludu\"\n",
    "print(detect_and_translate1(detect_and_translate(sentence,'te','no'),'en','no'))\n"
   ]
  },
  {
   "cell_type": "code",
   "execution_count": null,
   "id": "7da7e96e",
   "metadata": {},
   "outputs": [],
   "source": []
  },
  {
   "cell_type": "code",
   "execution_count": null,
   "id": "c8edf035",
   "metadata": {},
   "outputs": [],
   "source": [
    "from google.cloud import translate\n",
    "client = translate.TranslationServiceClient()"
   ]
  }
 ],
 "metadata": {
  "kernelspec": {
   "display_name": "Python 3",
   "language": "python",
   "name": "python3"
  },
  "language_info": {
   "codemirror_mode": {
    "name": "ipython",
    "version": 3
   },
   "file_extension": ".py",
   "mimetype": "text/x-python",
   "name": "python",
   "nbconvert_exporter": "python",
   "pygments_lexer": "ipython3",
   "version": "3.8.8"
  }
 },
 "nbformat": 4,
 "nbformat_minor": 5
}
